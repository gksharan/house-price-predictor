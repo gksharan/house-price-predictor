{
 "cells": [
  {
   "cell_type": "code",
   "execution_count": null,
   "id": "initial_id",
   "metadata": {
    "collapsed": true
   },
   "outputs": [],
   "source": [
    "import pandas as pd\n",
    "import numpy as np\n",
    "from sklearn import linear_model\n",
    "import matplotlib.pyplot as plt\n",
    "\n",
    "# Step 1: Read and clean data\n",
    "# Please make sure you have a 'data.csv' file in the same directory\n",
    "try:\n",
    "    data = pd.read_csv(\"data.csv\")\n",
    "except FileNotFoundError:\n",
    "    print(\"❌ Error: 'data.csv' not found. Please make sure the file is in the same directory.\")\n",
    "    # Creating a dummy DataFrame for demonstration\n",
    "    data = pd.DataFrame({'area': [2600, 3000, 3200, 3600, 4000], 'price': [550000, 565000, 610000, 680000, 725000]})\n",
    "\n",
    "# Clean column names: remove spaces, make lowercase\n",
    "data.columns = data.columns.str.strip().str.lower()\n",
    "print(\"✅ Cleaned columns:\", data.columns.tolist())\n",
    "\n",
    "# Step 2: Check if required columns are present\n",
    "if \"area\" not in data.columns or \"price\" not in data.columns:\n",
    "    raise ValueError(\"❌ Your CSV file must have 'area' and 'price' columns (case-sensitive, no spaces).\")\n",
    "\n",
    "# Step 3: Prepare training data\n",
    "# Convert X to a numpy array to avoid the UserWarning\n",
    "X = data[[\"area\"]].to_numpy()\n",
    "y = data[\"price\"].to_numpy()\n",
    "\n",
    "# Step 4: Train the model\n",
    "model = linear_model.LinearRegression()\n",
    "model.fit(X, y)\n",
    "\n",
    "# Step 5: Predict price for a given area (e.g., 3300 sqft)\n",
    "predicted_price = model.predict([[3300]])\n",
    "print(f\"💰 Predicted price for 3300 sqft = ₹{predicted_price[0]:,.2f}\")\n",
    "\n",
    "# Step 6: Plot data and regression line\n",
    "plt.scatter(X, y, color='red', label='Actual Data')\n",
    "plt.plot(X, model.predict(X), color='blue', label='Prediction Line')\n",
    "plt.xlabel(\"Area (sqft)\")\n",
    "plt.ylabel(\"Price (INR)\")\n",
    "plt.title(\"House Price Prediction\")\n",
    "plt.legend()\n",
    "plt.grid(True)\n",
    "plt.show()\n"
   ]
  }
 ],
 "metadata": {
  "kernelspec": {
   "display_name": "Python 3",
   "language": "python",
   "name": "python3"
  },
  "language_info": {
   "codemirror_mode": {
    "name": "ipython",
    "version": 2
   },
   "file_extension": ".py",
   "mimetype": "text/x-python",
   "name": "python",
   "nbconvert_exporter": "python",
   "pygments_lexer": "ipython2",
   "version": "2.7.6"
  }
 },
 "nbformat": 4,
 "nbformat_minor": 5
}
